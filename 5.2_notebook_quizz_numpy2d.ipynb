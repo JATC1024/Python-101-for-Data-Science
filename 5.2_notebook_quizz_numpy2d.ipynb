{
    "nbformat_minor": 2, 
    "cells": [
        {
            "source": "<h3> Get to Know a numpy Array </h3>", 
            "cell_type": "markdown", 
            "metadata": {}
        }, 
        {
            "source": "You will use the numpy array <code> A</code> for the following ", 
            "cell_type": "markdown", 
            "metadata": {}
        }, 
        {
            "execution_count": 9, 
            "cell_type": "code", 
            "metadata": {}, 
            "outputs": [
                {
                    "execution_count": 9, 
                    "metadata": {}, 
                    "data": {
                        "text/plain": "array([list([11, 12]), list([1])], dtype=object)"
                    }, 
                    "output_type": "execute_result"
                }
            ], 
            "source": "import numpy as np\nA=np.array([[11,12],[21,22],[31,32]])\nB = np.array([[11, 12], [1]])"
        }, 
        {
            "source": "1) type using the function type ", 
            "cell_type": "markdown", 
            "metadata": {}
        }, 
        {
            "execution_count": 4, 
            "cell_type": "code", 
            "metadata": {}, 
            "outputs": [
                {
                    "execution_count": 4, 
                    "metadata": {}, 
                    "data": {
                        "text/plain": "numpy.ndarray"
                    }, 
                    "output_type": "execute_result"
                }
            ], 
            "source": "type(A)"
        }, 
        {
            "source": "2) the shape of the array ", 
            "cell_type": "markdown", 
            "metadata": {}
        }, 
        {
            "execution_count": 12, 
            "cell_type": "code", 
            "metadata": {}, 
            "outputs": [
                {
                    "execution_count": 12, 
                    "metadata": {}, 
                    "data": {
                        "text/plain": "(3, 2)"
                    }, 
                    "output_type": "execute_result"
                }
            ], 
            "source": "A.shape"
        }, 
        {
            "source": "3) the type of data in the array ", 
            "cell_type": "markdown", 
            "metadata": {}
        }, 
        {
            "execution_count": 13, 
            "cell_type": "code", 
            "metadata": {}, 
            "outputs": [
                {
                    "execution_count": 13, 
                    "metadata": {}, 
                    "data": {
                        "text/plain": "dtype('int64')"
                    }, 
                    "output_type": "execute_result"
                }
            ], 
            "source": "A.dtype"
        }, 
        {
            "source": "4) Find the second row of the numpy array <code>A</code>:", 
            "cell_type": "markdown", 
            "metadata": {}
        }, 
        {
            "execution_count": 15, 
            "cell_type": "code", 
            "metadata": {}, 
            "outputs": [
                {
                    "execution_count": 15, 
                    "metadata": {}, 
                    "data": {
                        "text/plain": "array([21, 22])"
                    }, 
                    "output_type": "execute_result"
                }
            ], 
            "source": "A[1]"
        }, 
        {
            "source": "<h3> Two kinds of Multiplying  </h3>", 
            "cell_type": "markdown", 
            "metadata": {}
        }, 
        {
            "source": "you will use the following numpy arrays for the next questions ", 
            "cell_type": "markdown", 
            "metadata": {}
        }, 
        {
            "execution_count": 16, 
            "cell_type": "code", 
            "metadata": {}, 
            "outputs": [], 
            "source": "A=np.array([[11,12],[21,22]])\nB=np.array([[1, 0],[0,1]])"
        }, 
        {
            "source": "1) multiply array <code> A </code> and <code>B</code>", 
            "cell_type": "markdown", 
            "metadata": {}
        }, 
        {
            "source": "", 
            "cell_type": "markdown", 
            "metadata": {}
        }, 
        {
            "execution_count": 17, 
            "cell_type": "code", 
            "metadata": {}, 
            "outputs": [
                {
                    "execution_count": 17, 
                    "metadata": {}, 
                    "data": {
                        "text/plain": "array([[11,  0],\n       [ 0, 22]])"
                    }, 
                    "output_type": "execute_result"
                }
            ], 
            "source": "A*B"
        }, 
        {
            "source": "2)  plot the function", 
            "cell_type": "markdown", 
            "metadata": {}
        }, 
        {
            "execution_count": 19, 
            "cell_type": "code", 
            "metadata": {}, 
            "outputs": [
                {
                    "output_type": "stream", 
                    "name": "stdout", 
                    "text": "[[11 12]\n [21 22]]\n[[11 12]\n [21 22]]\n"
                }
            ], 
            "source": "print(np.dot(A,B))\nprint(np.dot(B,A))\n\n"
        }, 
        {
            "source": "<hr>\n<small>Copyright &copy; 2018 IBM Cognitive Class. This notebook and its source code are released under the terms of the [MIT License](https://cognitiveclass.ai/mit-license/).</small>", 
            "cell_type": "markdown", 
            "metadata": {}
        }
    ], 
    "metadata": {
        "kernelspec": {
            "display_name": "Python 3.5", 
            "name": "python3", 
            "language": "python"
        }, 
        "language_info": {
            "mimetype": "text/x-python", 
            "nbconvert_exporter": "python", 
            "version": "3.5.5", 
            "name": "python", 
            "file_extension": ".py", 
            "pygments_lexer": "ipython3", 
            "codemirror_mode": {
                "version": 3, 
                "name": "ipython"
            }
        }
    }, 
    "nbformat": 4
}